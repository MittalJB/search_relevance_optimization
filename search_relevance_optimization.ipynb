{
  "nbformat": 4,
  "nbformat_minor": 0,
  "metadata": {
    "colab": {
      "provenance": []
    },
    "kernelspec": {
      "name": "python3",
      "display_name": "Python 3"
    },
    "language_info": {
      "name": "python"
    },
    "widgets": {
      "application/vnd.jupyter.widget-state+json": {
        "48088bc68b624b90b10654ca0c1878de": {
          "model_module": "@jupyter-widgets/controls",
          "model_name": "HBoxModel",
          "model_module_version": "1.5.0",
          "state": {
            "_dom_classes": [],
            "_model_module": "@jupyter-widgets/controls",
            "_model_module_version": "1.5.0",
            "_model_name": "HBoxModel",
            "_view_count": null,
            "_view_module": "@jupyter-widgets/controls",
            "_view_module_version": "1.5.0",
            "_view_name": "HBoxView",
            "box_style": "",
            "children": [
              "IPY_MODEL_6e4c55493a154ab191cd57b79df4e134",
              "IPY_MODEL_4e41e2fb2c24447494373b3536b043c2",
              "IPY_MODEL_aa37d2fa2d794698977045b9ba3e5829"
            ],
            "layout": "IPY_MODEL_31fa597153984bd8ab324c1d1c9a0849"
          }
        },
        "6e4c55493a154ab191cd57b79df4e134": {
          "model_module": "@jupyter-widgets/controls",
          "model_name": "HTMLModel",
          "model_module_version": "1.5.0",
          "state": {
            "_dom_classes": [],
            "_model_module": "@jupyter-widgets/controls",
            "_model_module_version": "1.5.0",
            "_model_name": "HTMLModel",
            "_view_count": null,
            "_view_module": "@jupyter-widgets/controls",
            "_view_module_version": "1.5.0",
            "_view_name": "HTMLView",
            "description": "",
            "description_tooltip": null,
            "layout": "IPY_MODEL_710687a7f1d14efaa578be9d89fd7264",
            "placeholder": "​",
            "style": "IPY_MODEL_99e6e2594a0f4ddf976acfff297d9c50",
            "value": "Batches: 100%"
          }
        },
        "4e41e2fb2c24447494373b3536b043c2": {
          "model_module": "@jupyter-widgets/controls",
          "model_name": "FloatProgressModel",
          "model_module_version": "1.5.0",
          "state": {
            "_dom_classes": [],
            "_model_module": "@jupyter-widgets/controls",
            "_model_module_version": "1.5.0",
            "_model_name": "FloatProgressModel",
            "_view_count": null,
            "_view_module": "@jupyter-widgets/controls",
            "_view_module_version": "1.5.0",
            "_view_name": "ProgressView",
            "bar_style": "success",
            "description": "",
            "description_tooltip": null,
            "layout": "IPY_MODEL_b9966b45703842e59d2f6f359f87db38",
            "max": 13,
            "min": 0,
            "orientation": "horizontal",
            "style": "IPY_MODEL_bc76e07f77744e479fdeb88f2ff62ebc",
            "value": 13
          }
        },
        "aa37d2fa2d794698977045b9ba3e5829": {
          "model_module": "@jupyter-widgets/controls",
          "model_name": "HTMLModel",
          "model_module_version": "1.5.0",
          "state": {
            "_dom_classes": [],
            "_model_module": "@jupyter-widgets/controls",
            "_model_module_version": "1.5.0",
            "_model_name": "HTMLModel",
            "_view_count": null,
            "_view_module": "@jupyter-widgets/controls",
            "_view_module_version": "1.5.0",
            "_view_name": "HTMLView",
            "description": "",
            "description_tooltip": null,
            "layout": "IPY_MODEL_abee583ea440489a826a9e443de7043d",
            "placeholder": "​",
            "style": "IPY_MODEL_d00259dd32f74f9a9858963446c65a56",
            "value": " 13/13 [00:14&lt;00:00,  1.36it/s]"
          }
        },
        "31fa597153984bd8ab324c1d1c9a0849": {
          "model_module": "@jupyter-widgets/base",
          "model_name": "LayoutModel",
          "model_module_version": "1.2.0",
          "state": {
            "_model_module": "@jupyter-widgets/base",
            "_model_module_version": "1.2.0",
            "_model_name": "LayoutModel",
            "_view_count": null,
            "_view_module": "@jupyter-widgets/base",
            "_view_module_version": "1.2.0",
            "_view_name": "LayoutView",
            "align_content": null,
            "align_items": null,
            "align_self": null,
            "border": null,
            "bottom": null,
            "display": null,
            "flex": null,
            "flex_flow": null,
            "grid_area": null,
            "grid_auto_columns": null,
            "grid_auto_flow": null,
            "grid_auto_rows": null,
            "grid_column": null,
            "grid_gap": null,
            "grid_row": null,
            "grid_template_areas": null,
            "grid_template_columns": null,
            "grid_template_rows": null,
            "height": null,
            "justify_content": null,
            "justify_items": null,
            "left": null,
            "margin": null,
            "max_height": null,
            "max_width": null,
            "min_height": null,
            "min_width": null,
            "object_fit": null,
            "object_position": null,
            "order": null,
            "overflow": null,
            "overflow_x": null,
            "overflow_y": null,
            "padding": null,
            "right": null,
            "top": null,
            "visibility": null,
            "width": null
          }
        },
        "710687a7f1d14efaa578be9d89fd7264": {
          "model_module": "@jupyter-widgets/base",
          "model_name": "LayoutModel",
          "model_module_version": "1.2.0",
          "state": {
            "_model_module": "@jupyter-widgets/base",
            "_model_module_version": "1.2.0",
            "_model_name": "LayoutModel",
            "_view_count": null,
            "_view_module": "@jupyter-widgets/base",
            "_view_module_version": "1.2.0",
            "_view_name": "LayoutView",
            "align_content": null,
            "align_items": null,
            "align_self": null,
            "border": null,
            "bottom": null,
            "display": null,
            "flex": null,
            "flex_flow": null,
            "grid_area": null,
            "grid_auto_columns": null,
            "grid_auto_flow": null,
            "grid_auto_rows": null,
            "grid_column": null,
            "grid_gap": null,
            "grid_row": null,
            "grid_template_areas": null,
            "grid_template_columns": null,
            "grid_template_rows": null,
            "height": null,
            "justify_content": null,
            "justify_items": null,
            "left": null,
            "margin": null,
            "max_height": null,
            "max_width": null,
            "min_height": null,
            "min_width": null,
            "object_fit": null,
            "object_position": null,
            "order": null,
            "overflow": null,
            "overflow_x": null,
            "overflow_y": null,
            "padding": null,
            "right": null,
            "top": null,
            "visibility": null,
            "width": null
          }
        },
        "99e6e2594a0f4ddf976acfff297d9c50": {
          "model_module": "@jupyter-widgets/controls",
          "model_name": "DescriptionStyleModel",
          "model_module_version": "1.5.0",
          "state": {
            "_model_module": "@jupyter-widgets/controls",
            "_model_module_version": "1.5.0",
            "_model_name": "DescriptionStyleModel",
            "_view_count": null,
            "_view_module": "@jupyter-widgets/base",
            "_view_module_version": "1.2.0",
            "_view_name": "StyleView",
            "description_width": ""
          }
        },
        "b9966b45703842e59d2f6f359f87db38": {
          "model_module": "@jupyter-widgets/base",
          "model_name": "LayoutModel",
          "model_module_version": "1.2.0",
          "state": {
            "_model_module": "@jupyter-widgets/base",
            "_model_module_version": "1.2.0",
            "_model_name": "LayoutModel",
            "_view_count": null,
            "_view_module": "@jupyter-widgets/base",
            "_view_module_version": "1.2.0",
            "_view_name": "LayoutView",
            "align_content": null,
            "align_items": null,
            "align_self": null,
            "border": null,
            "bottom": null,
            "display": null,
            "flex": null,
            "flex_flow": null,
            "grid_area": null,
            "grid_auto_columns": null,
            "grid_auto_flow": null,
            "grid_auto_rows": null,
            "grid_column": null,
            "grid_gap": null,
            "grid_row": null,
            "grid_template_areas": null,
            "grid_template_columns": null,
            "grid_template_rows": null,
            "height": null,
            "justify_content": null,
            "justify_items": null,
            "left": null,
            "margin": null,
            "max_height": null,
            "max_width": null,
            "min_height": null,
            "min_width": null,
            "object_fit": null,
            "object_position": null,
            "order": null,
            "overflow": null,
            "overflow_x": null,
            "overflow_y": null,
            "padding": null,
            "right": null,
            "top": null,
            "visibility": null,
            "width": null
          }
        },
        "bc76e07f77744e479fdeb88f2ff62ebc": {
          "model_module": "@jupyter-widgets/controls",
          "model_name": "ProgressStyleModel",
          "model_module_version": "1.5.0",
          "state": {
            "_model_module": "@jupyter-widgets/controls",
            "_model_module_version": "1.5.0",
            "_model_name": "ProgressStyleModel",
            "_view_count": null,
            "_view_module": "@jupyter-widgets/base",
            "_view_module_version": "1.2.0",
            "_view_name": "StyleView",
            "bar_color": null,
            "description_width": ""
          }
        },
        "abee583ea440489a826a9e443de7043d": {
          "model_module": "@jupyter-widgets/base",
          "model_name": "LayoutModel",
          "model_module_version": "1.2.0",
          "state": {
            "_model_module": "@jupyter-widgets/base",
            "_model_module_version": "1.2.0",
            "_model_name": "LayoutModel",
            "_view_count": null,
            "_view_module": "@jupyter-widgets/base",
            "_view_module_version": "1.2.0",
            "_view_name": "LayoutView",
            "align_content": null,
            "align_items": null,
            "align_self": null,
            "border": null,
            "bottom": null,
            "display": null,
            "flex": null,
            "flex_flow": null,
            "grid_area": null,
            "grid_auto_columns": null,
            "grid_auto_flow": null,
            "grid_auto_rows": null,
            "grid_column": null,
            "grid_gap": null,
            "grid_row": null,
            "grid_template_areas": null,
            "grid_template_columns": null,
            "grid_template_rows": null,
            "height": null,
            "justify_content": null,
            "justify_items": null,
            "left": null,
            "margin": null,
            "max_height": null,
            "max_width": null,
            "min_height": null,
            "min_width": null,
            "object_fit": null,
            "object_position": null,
            "order": null,
            "overflow": null,
            "overflow_x": null,
            "overflow_y": null,
            "padding": null,
            "right": null,
            "top": null,
            "visibility": null,
            "width": null
          }
        },
        "d00259dd32f74f9a9858963446c65a56": {
          "model_module": "@jupyter-widgets/controls",
          "model_name": "DescriptionStyleModel",
          "model_module_version": "1.5.0",
          "state": {
            "_model_module": "@jupyter-widgets/controls",
            "_model_module_version": "1.5.0",
            "_model_name": "DescriptionStyleModel",
            "_view_count": null,
            "_view_module": "@jupyter-widgets/base",
            "_view_module_version": "1.2.0",
            "_view_name": "StyleView",
            "description_width": ""
          }
        }
      }
    }
  },
  "cells": [
    {
      "cell_type": "markdown",
      "source": [
        "Data Preparation (Pandas + NLTK )   \n",
        "Clean and Normalize Data (Local with Pandas + NLTK)"
      ],
      "metadata": {
        "id": "DBSNpNHt2bc1"
      }
    },
    {
      "cell_type": "code",
      "source": [
        "# Install packages\n",
        "%pip install pandas nltk pyspark elasticsearch sentence-transformers xgboost langchain openai faiss-cpu --quiet\n"
      ],
      "metadata": {
        "id": "p0biRn2hegza"
      },
      "execution_count": null,
      "outputs": []
    },
    {
      "cell_type": "code",
      "source": [
        "import pandas as pd\n",
        "import nltk\n",
        "import re\n",
        "from nltk.corpus import stopwords\n",
        "from nltk.stem import WordNetLemmatizer\n",
        "\n",
        "nltk.download('punkt')\n",
        "nltk.download('stopwords')\n",
        "nltk.download('wordnet')\n",
        "\n",
        "# Load data\n",
        "df1 = pd.read_csv(\"nike-data-1.csv\")\n",
        "df2 = pd.read_csv(\"nike-data-2.csv\")\n",
        "\n",
        "# Merge\n",
        "if 'uniq_id' in df2.columns:\n",
        "    df2 = df2.drop(columns=['uniq_id'])\n",
        "df1 = df1.reset_index(drop=True)\n",
        "df2 = df2.reset_index(drop=True)\n",
        "combined_df = pd.concat([df2, df1], axis=1)\n",
        "combined_df.insert(0, 'new_id', range(1, len(combined_df) + 1))\n",
        "\n",
        "# Preprocess text\n",
        "def preprocess_text(text):\n",
        "    text = re.sub(r'[^a-zA-Z0-9\\s]', '', str(text).lower())\n",
        "    tokens = nltk.word_tokenize(text)\n",
        "    tokens = [t for t in tokens if t not in stopwords.words('english')]\n",
        "    tokens = [WordNetLemmatizer().lemmatize(t) for t in tokens]\n",
        "    return ' '.join(tokens)\n",
        "\n",
        "combined_df['processed_title'] = combined_df['Title'].apply(preprocess_text)\n",
        "combined_df['processed_description'] = combined_df['Product Description'].apply(preprocess_text)\n",
        "\n"
      ],
      "metadata": {
        "colab": {
          "base_uri": "https://localhost:8080/"
        },
        "id": "0rXU_Gkk2pEB",
        "outputId": "3fc2e6b5-db16-4f61-8189-e096c19cccb4"
      },
      "execution_count": null,
      "outputs": [
        {
          "output_type": "stream",
          "name": "stderr",
          "text": [
            "[nltk_data] Downloading package punkt to /root/nltk_data...\n",
            "[nltk_data]   Package punkt is already up-to-date!\n",
            "[nltk_data] Downloading package stopwords to /root/nltk_data...\n",
            "[nltk_data]   Package stopwords is already up-to-date!\n",
            "[nltk_data] Downloading package wordnet to /root/nltk_data...\n",
            "[nltk_data]   Package wordnet is already up-to-date!\n"
          ]
        }
      ]
    },
    {
      "cell_type": "code",
      "source": [
        "from pyspark.sql import SparkSession\n",
        "spark = SparkSession.builder.master(\"local[*]\").appName(\"SearchPreprocessing\").getOrCreate()\n",
        "df_spark = spark.createDataFrame(combined_df)\n",
        "df_spark.printSchema()\n",
        "\n"
      ],
      "metadata": {
        "colab": {
          "base_uri": "https://localhost:8080/"
        },
        "id": "g9Sey8O4Fdk-",
        "outputId": "de2f6b54-2ce9-427d-9a90-b3b7b49cdc42"
      },
      "execution_count": null,
      "outputs": [
        {
          "output_type": "stream",
          "name": "stdout",
          "text": [
            "root\n",
            " |-- new_id: long (nullable = true)\n",
            " |-- Title: string (nullable = true)\n",
            " |-- Subtitle: string (nullable = true)\n",
            " |-- Product Description: string (nullable = true)\n",
            " |-- url: string (nullable = true)\n",
            " |-- name: string (nullable = true)\n",
            " |-- sub_title: string (nullable = true)\n",
            " |-- brand: string (nullable = true)\n",
            " |-- model: double (nullable = true)\n",
            " |-- color: string (nullable = true)\n",
            " |-- price: double (nullable = true)\n",
            " |-- currency: string (nullable = true)\n",
            " |-- availability: string (nullable = true)\n",
            " |-- description: string (nullable = true)\n",
            " |-- raw_description: string (nullable = true)\n",
            " |-- avg_rating: double (nullable = true)\n",
            " |-- review_count: double (nullable = true)\n",
            " |-- images: string (nullable = true)\n",
            " |-- available_sizes: string (nullable = true)\n",
            " |-- uniq_id: string (nullable = true)\n",
            " |-- scraped_at: string (nullable = true)\n",
            " |-- processed_title: string (nullable = true)\n",
            " |-- processed_description: string (nullable = true)\n",
            "\n"
          ]
        }
      ]
    },
    {
      "cell_type": "markdown",
      "source": [
        " Sentence Embedding + FAISS Index"
      ],
      "metadata": {
        "id": "Qnt0QXKPa5Nu"
      }
    },
    {
      "cell_type": "code",
      "source": [
        "from sentence_transformers import SentenceTransformer\n",
        "import faiss\n",
        "\n",
        "# Load model and encode\n",
        "model = SentenceTransformer('all-MiniLM-L6-v2')\n",
        "descriptions = combined_df['processed_description'].tolist()\n",
        "embeddings = model.encode(descriptions, show_progress_bar=True)\n",
        "\n",
        "# Normalize for cosine similarity\n",
        "faiss.normalize_L2(embeddings)\n",
        "\n",
        "# Build index\n",
        "index = faiss.IndexFlatIP(embeddings.shape[1])\n",
        "index.add(embeddings)\n"
      ],
      "metadata": {
        "colab": {
          "base_uri": "https://localhost:8080/",
          "height": 49,
          "referenced_widgets": [
            "48088bc68b624b90b10654ca0c1878de",
            "6e4c55493a154ab191cd57b79df4e134",
            "4e41e2fb2c24447494373b3536b043c2",
            "aa37d2fa2d794698977045b9ba3e5829",
            "31fa597153984bd8ab324c1d1c9a0849",
            "710687a7f1d14efaa578be9d89fd7264",
            "99e6e2594a0f4ddf976acfff297d9c50",
            "b9966b45703842e59d2f6f359f87db38",
            "bc76e07f77744e479fdeb88f2ff62ebc",
            "abee583ea440489a826a9e443de7043d",
            "d00259dd32f74f9a9858963446c65a56"
          ]
        },
        "id": "oYy-O16fuZSb",
        "outputId": "0812b311-00a2-4600-dd59-0fc5aaf27f90"
      },
      "execution_count": null,
      "outputs": [
        {
          "output_type": "display_data",
          "data": {
            "text/plain": [
              "Batches:   0%|          | 0/13 [00:00<?, ?it/s]"
            ],
            "application/vnd.jupyter.widget-view+json": {
              "version_major": 2,
              "version_minor": 0,
              "model_id": "48088bc68b624b90b10654ca0c1878de"
            }
          },
          "metadata": {}
        }
      ]
    },
    {
      "cell_type": "markdown",
      "source": [
        "Feature Generation for Query"
      ],
      "metadata": {
        "id": "U9iWoJx0bEoe"
      }
    },
    {
      "cell_type": "code",
      "source": [
        "from sentence_transformers import util\n",
        "import numpy as np\n",
        "\n",
        "def compute_features(query, top_k=20):\n",
        "    query_vec = model.encode([query])\n",
        "    faiss.normalize_L2(query_vec)\n",
        "    D, I = index.search(query_vec, top_k)\n",
        "\n",
        "    results = []\n",
        "    for idx, score in zip(I[0], D[0]):\n",
        "        row = combined_df.iloc[idx]\n",
        "        semantic_sim = float(score)\n",
        "\n",
        "        # Optional keyword match\n",
        "        query_tokens = set(query.lower().split())\n",
        "        text_tokens = set(row['processed_description'].lower().split())\n",
        "        keyword_match_score = len(query_tokens & text_tokens) / len(query_tokens) if query_tokens else 0.0\n",
        "\n",
        "        results.append({\n",
        "            \"new_id\": row[\"new_id\"],\n",
        "            \"Title\": row[\"Title\"],\n",
        "            \"semantic_sim\": semantic_sim,\n",
        "            \"keyword_match_score\": keyword_match_score\n",
        "        })\n",
        "\n",
        "    return pd.DataFrame(results)\n"
      ],
      "metadata": {
        "id": "YTdzxr4Zf7n7"
      },
      "execution_count": null,
      "outputs": []
    },
    {
      "cell_type": "markdown",
      "source": [
        "Assign Relevance Labels"
      ],
      "metadata": {
        "id": "Jtev0HE3f_NS"
      }
    },
    {
      "cell_type": "code",
      "source": [
        "\n",
        "results_df = compute_features(query=\"your subcategory here\", top_k=20)\n",
        "\n",
        "def assign_relevance(row):\n",
        "    if row['semantic_sim'] > 0.6:\n",
        "        return 3\n",
        "    elif row['semantic_sim'] > 0.4:\n",
        "        return 2\n",
        "    else:\n",
        "        return 1\n",
        "\n",
        "results_df['relevance'] = results_df.apply(assign_relevance, axis=1)\n",
        "print(results_df['relevance'].value_counts())\n",
        "\n",
        "\n"
      ],
      "metadata": {
        "colab": {
          "base_uri": "https://localhost:8080/"
        },
        "id": "AROQ_BQxf-Ex",
        "outputId": "21353104-54cd-4191-b7d1-acdcacb0aa0b"
      },
      "execution_count": null,
      "outputs": [
        {
          "output_type": "stream",
          "name": "stdout",
          "text": [
            "relevance\n",
            "1    20\n",
            "Name: count, dtype: int64\n"
          ]
        }
      ]
    },
    {
      "cell_type": "markdown",
      "source": [
        "Assign Relevance Labels"
      ],
      "metadata": {
        "id": "3Ck5-D_dgEP2"
      }
    },
    {
      "cell_type": "code",
      "source": [
        "from sentence_transformers import util\n",
        "\n",
        "# Ensure the column name for subcategory is correct (e.g., 'sub_title' or 'subcategory')\n",
        "search_col = 'sub_title'  # change this to your actual subcategory column name\n",
        "\n",
        "def compute_row_semantic_sim(row):\n",
        "    query_emb = model.encode(str(row[search_col]))\n",
        "    desc_emb = model.encode(str(row['processed_description']))\n",
        "    return util.cos_sim(query_emb, desc_emb).item()\n",
        "\n",
        "combined_df['semantic_sim'] = combined_df.apply(compute_row_semantic_sim, axis=1)\n",
        "\n",
        "# Assign relevance based on semantic similarity\n",
        "combined_df['relevance'] = 1  # default\n",
        "combined_df.loc[combined_df['semantic_sim'] > 0.6, 'relevance'] = 3\n",
        "combined_df.loc[(combined_df['semantic_sim'] > 0.4) & (combined_df['semantic_sim'] <= 0.6), 'relevance'] = 2\n",
        "\n",
        "print(combined_df['relevance'].value_counts())\n",
        "\n"
      ],
      "metadata": {
        "id": "3xY1k-7AgFie",
        "colab": {
          "base_uri": "https://localhost:8080/"
        },
        "outputId": "6ad58ad1-c0f0-4dde-f3df-3ae8857a3014"
      },
      "execution_count": null,
      "outputs": [
        {
          "output_type": "stream",
          "name": "stdout",
          "text": [
            "relevance\n",
            "1    391\n",
            "2      9\n",
            "Name: count, dtype: int64\n"
          ]
        }
      ]
    },
    {
      "cell_type": "markdown",
      "source": [
        "Train XGBoost Ranker"
      ],
      "metadata": {
        "id": "GljZT_d5a8BO"
      }
    },
    {
      "cell_type": "code",
      "source": [
        "def compute_keyword_match_score(row):\n",
        "    query_tokens = set(str(row[search_col]).lower().split())\n",
        "    desc_tokens = set(str(row['processed_description']).lower().split())\n",
        "    if query_tokens:\n",
        "        return len(query_tokens & desc_tokens) / len(query_tokens)\n",
        "    else:\n",
        "        return 0.0\n",
        "\n",
        "combined_df['keyword_match_score'] = combined_df.apply(compute_keyword_match_score, axis=1)\n"
      ],
      "metadata": {
        "id": "O7AGpb8A1klF"
      },
      "execution_count": null,
      "outputs": []
    },
    {
      "cell_type": "code",
      "source": [
        "from xgboost import XGBRanker\n",
        "from sklearn.model_selection import train_test_split\n",
        "\n",
        "features = ['keyword_match_score', 'semantic_sim']\n",
        "X = combined_df[features]\n",
        "y = combined_df['relevance']\n",
        "\n",
        "X_train, X_test, y_train, y_test = train_test_split(X, y, test_size=0.2)\n",
        "\n",
        "# Since it's from one query, group is just the whole training set\n",
        "train_group = [len(X_train)]\n",
        "\n",
        "model_xgb = XGBRanker(objective='rank:pairwise', n_estimators=100)\n",
        "model_xgb.fit(X_train, y_train, group=train_group)\n",
        "\n",
        "print(y_train.value_counts())\n",
        "\n"
      ],
      "metadata": {
        "colab": {
          "base_uri": "https://localhost:8080/"
        },
        "id": "ofryLKPYaS04",
        "outputId": "68867434-bed7-4699-b664-aef7324345f7"
      },
      "execution_count": null,
      "outputs": [
        {
          "output_type": "stream",
          "name": "stdout",
          "text": [
            "relevance\n",
            "1    314\n",
            "2      6\n",
            "Name: count, dtype: int64\n"
          ]
        }
      ]
    },
    {
      "cell_type": "code",
      "source": [
        "y_pred = model_xgb.predict(X_test)\n",
        "X_test = X_test.copy()\n",
        "X_test['y_true'] = y_test.values\n",
        "X_test['y_pred'] = y_pred\n",
        "\n",
        "# Top predictions\n",
        "X_test.sort_values(\"y_pred\", ascending=False).head(5)\n"
      ],
      "metadata": {
        "colab": {
          "base_uri": "https://localhost:8080/",
          "height": 206
        },
        "id": "GmXdbAn-wUiI",
        "outputId": "e24505f1-5a62-4a7a-fc78-289f2cd9b164"
      },
      "execution_count": null,
      "outputs": [
        {
          "output_type": "execute_result",
          "data": {
            "text/plain": [
              "     keyword_match_score  semantic_sim  y_true    y_pred\n",
              "12                   0.2      0.410618       2  3.257960\n",
              "72                   0.0      0.458807       2  3.257960\n",
              "107                  0.0      0.583460       2  3.257960\n",
              "69                   0.0      0.045934       1 -3.257959\n",
              "52                   0.0      0.120018       1 -3.257959"
            ],
            "text/html": [
              "\n",
              "  <div id=\"df-9bec1f1c-e074-436c-a675-7f0990a98439\" class=\"colab-df-container\">\n",
              "    <div>\n",
              "<style scoped>\n",
              "    .dataframe tbody tr th:only-of-type {\n",
              "        vertical-align: middle;\n",
              "    }\n",
              "\n",
              "    .dataframe tbody tr th {\n",
              "        vertical-align: top;\n",
              "    }\n",
              "\n",
              "    .dataframe thead th {\n",
              "        text-align: right;\n",
              "    }\n",
              "</style>\n",
              "<table border=\"1\" class=\"dataframe\">\n",
              "  <thead>\n",
              "    <tr style=\"text-align: right;\">\n",
              "      <th></th>\n",
              "      <th>keyword_match_score</th>\n",
              "      <th>semantic_sim</th>\n",
              "      <th>y_true</th>\n",
              "      <th>y_pred</th>\n",
              "    </tr>\n",
              "  </thead>\n",
              "  <tbody>\n",
              "    <tr>\n",
              "      <th>12</th>\n",
              "      <td>0.2</td>\n",
              "      <td>0.410618</td>\n",
              "      <td>2</td>\n",
              "      <td>3.257960</td>\n",
              "    </tr>\n",
              "    <tr>\n",
              "      <th>72</th>\n",
              "      <td>0.0</td>\n",
              "      <td>0.458807</td>\n",
              "      <td>2</td>\n",
              "      <td>3.257960</td>\n",
              "    </tr>\n",
              "    <tr>\n",
              "      <th>107</th>\n",
              "      <td>0.0</td>\n",
              "      <td>0.583460</td>\n",
              "      <td>2</td>\n",
              "      <td>3.257960</td>\n",
              "    </tr>\n",
              "    <tr>\n",
              "      <th>69</th>\n",
              "      <td>0.0</td>\n",
              "      <td>0.045934</td>\n",
              "      <td>1</td>\n",
              "      <td>-3.257959</td>\n",
              "    </tr>\n",
              "    <tr>\n",
              "      <th>52</th>\n",
              "      <td>0.0</td>\n",
              "      <td>0.120018</td>\n",
              "      <td>1</td>\n",
              "      <td>-3.257959</td>\n",
              "    </tr>\n",
              "  </tbody>\n",
              "</table>\n",
              "</div>\n",
              "    <div class=\"colab-df-buttons\">\n",
              "\n",
              "  <div class=\"colab-df-container\">\n",
              "    <button class=\"colab-df-convert\" onclick=\"convertToInteractive('df-9bec1f1c-e074-436c-a675-7f0990a98439')\"\n",
              "            title=\"Convert this dataframe to an interactive table.\"\n",
              "            style=\"display:none;\">\n",
              "\n",
              "  <svg xmlns=\"http://www.w3.org/2000/svg\" height=\"24px\" viewBox=\"0 -960 960 960\">\n",
              "    <path d=\"M120-120v-720h720v720H120Zm60-500h600v-160H180v160Zm220 220h160v-160H400v160Zm0 220h160v-160H400v160ZM180-400h160v-160H180v160Zm440 0h160v-160H620v160ZM180-180h160v-160H180v160Zm440 0h160v-160H620v160Z\"/>\n",
              "  </svg>\n",
              "    </button>\n",
              "\n",
              "  <style>\n",
              "    .colab-df-container {\n",
              "      display:flex;\n",
              "      gap: 12px;\n",
              "    }\n",
              "\n",
              "    .colab-df-convert {\n",
              "      background-color: #E8F0FE;\n",
              "      border: none;\n",
              "      border-radius: 50%;\n",
              "      cursor: pointer;\n",
              "      display: none;\n",
              "      fill: #1967D2;\n",
              "      height: 32px;\n",
              "      padding: 0 0 0 0;\n",
              "      width: 32px;\n",
              "    }\n",
              "\n",
              "    .colab-df-convert:hover {\n",
              "      background-color: #E2EBFA;\n",
              "      box-shadow: 0px 1px 2px rgba(60, 64, 67, 0.3), 0px 1px 3px 1px rgba(60, 64, 67, 0.15);\n",
              "      fill: #174EA6;\n",
              "    }\n",
              "\n",
              "    .colab-df-buttons div {\n",
              "      margin-bottom: 4px;\n",
              "    }\n",
              "\n",
              "    [theme=dark] .colab-df-convert {\n",
              "      background-color: #3B4455;\n",
              "      fill: #D2E3FC;\n",
              "    }\n",
              "\n",
              "    [theme=dark] .colab-df-convert:hover {\n",
              "      background-color: #434B5C;\n",
              "      box-shadow: 0px 1px 3px 1px rgba(0, 0, 0, 0.15);\n",
              "      filter: drop-shadow(0px 1px 2px rgba(0, 0, 0, 0.3));\n",
              "      fill: #FFFFFF;\n",
              "    }\n",
              "  </style>\n",
              "\n",
              "    <script>\n",
              "      const buttonEl =\n",
              "        document.querySelector('#df-9bec1f1c-e074-436c-a675-7f0990a98439 button.colab-df-convert');\n",
              "      buttonEl.style.display =\n",
              "        google.colab.kernel.accessAllowed ? 'block' : 'none';\n",
              "\n",
              "      async function convertToInteractive(key) {\n",
              "        const element = document.querySelector('#df-9bec1f1c-e074-436c-a675-7f0990a98439');\n",
              "        const dataTable =\n",
              "          await google.colab.kernel.invokeFunction('convertToInteractive',\n",
              "                                                    [key], {});\n",
              "        if (!dataTable) return;\n",
              "\n",
              "        const docLinkHtml = 'Like what you see? Visit the ' +\n",
              "          '<a target=\"_blank\" href=https://colab.research.google.com/notebooks/data_table.ipynb>data table notebook</a>'\n",
              "          + ' to learn more about interactive tables.';\n",
              "        element.innerHTML = '';\n",
              "        dataTable['output_type'] = 'display_data';\n",
              "        await google.colab.output.renderOutput(dataTable, element);\n",
              "        const docLink = document.createElement('div');\n",
              "        docLink.innerHTML = docLinkHtml;\n",
              "        element.appendChild(docLink);\n",
              "      }\n",
              "    </script>\n",
              "  </div>\n",
              "\n",
              "\n",
              "    <div id=\"df-11bedae4-c188-4327-a329-5b8cf27d8595\">\n",
              "      <button class=\"colab-df-quickchart\" onclick=\"quickchart('df-11bedae4-c188-4327-a329-5b8cf27d8595')\"\n",
              "                title=\"Suggest charts\"\n",
              "                style=\"display:none;\">\n",
              "\n",
              "<svg xmlns=\"http://www.w3.org/2000/svg\" height=\"24px\"viewBox=\"0 0 24 24\"\n",
              "     width=\"24px\">\n",
              "    <g>\n",
              "        <path d=\"M19 3H5c-1.1 0-2 .9-2 2v14c0 1.1.9 2 2 2h14c1.1 0 2-.9 2-2V5c0-1.1-.9-2-2-2zM9 17H7v-7h2v7zm4 0h-2V7h2v10zm4 0h-2v-4h2v4z\"/>\n",
              "    </g>\n",
              "</svg>\n",
              "      </button>\n",
              "\n",
              "<style>\n",
              "  .colab-df-quickchart {\n",
              "      --bg-color: #E8F0FE;\n",
              "      --fill-color: #1967D2;\n",
              "      --hover-bg-color: #E2EBFA;\n",
              "      --hover-fill-color: #174EA6;\n",
              "      --disabled-fill-color: #AAA;\n",
              "      --disabled-bg-color: #DDD;\n",
              "  }\n",
              "\n",
              "  [theme=dark] .colab-df-quickchart {\n",
              "      --bg-color: #3B4455;\n",
              "      --fill-color: #D2E3FC;\n",
              "      --hover-bg-color: #434B5C;\n",
              "      --hover-fill-color: #FFFFFF;\n",
              "      --disabled-bg-color: #3B4455;\n",
              "      --disabled-fill-color: #666;\n",
              "  }\n",
              "\n",
              "  .colab-df-quickchart {\n",
              "    background-color: var(--bg-color);\n",
              "    border: none;\n",
              "    border-radius: 50%;\n",
              "    cursor: pointer;\n",
              "    display: none;\n",
              "    fill: var(--fill-color);\n",
              "    height: 32px;\n",
              "    padding: 0;\n",
              "    width: 32px;\n",
              "  }\n",
              "\n",
              "  .colab-df-quickchart:hover {\n",
              "    background-color: var(--hover-bg-color);\n",
              "    box-shadow: 0 1px 2px rgba(60, 64, 67, 0.3), 0 1px 3px 1px rgba(60, 64, 67, 0.15);\n",
              "    fill: var(--button-hover-fill-color);\n",
              "  }\n",
              "\n",
              "  .colab-df-quickchart-complete:disabled,\n",
              "  .colab-df-quickchart-complete:disabled:hover {\n",
              "    background-color: var(--disabled-bg-color);\n",
              "    fill: var(--disabled-fill-color);\n",
              "    box-shadow: none;\n",
              "  }\n",
              "\n",
              "  .colab-df-spinner {\n",
              "    border: 2px solid var(--fill-color);\n",
              "    border-color: transparent;\n",
              "    border-bottom-color: var(--fill-color);\n",
              "    animation:\n",
              "      spin 1s steps(1) infinite;\n",
              "  }\n",
              "\n",
              "  @keyframes spin {\n",
              "    0% {\n",
              "      border-color: transparent;\n",
              "      border-bottom-color: var(--fill-color);\n",
              "      border-left-color: var(--fill-color);\n",
              "    }\n",
              "    20% {\n",
              "      border-color: transparent;\n",
              "      border-left-color: var(--fill-color);\n",
              "      border-top-color: var(--fill-color);\n",
              "    }\n",
              "    30% {\n",
              "      border-color: transparent;\n",
              "      border-left-color: var(--fill-color);\n",
              "      border-top-color: var(--fill-color);\n",
              "      border-right-color: var(--fill-color);\n",
              "    }\n",
              "    40% {\n",
              "      border-color: transparent;\n",
              "      border-right-color: var(--fill-color);\n",
              "      border-top-color: var(--fill-color);\n",
              "    }\n",
              "    60% {\n",
              "      border-color: transparent;\n",
              "      border-right-color: var(--fill-color);\n",
              "    }\n",
              "    80% {\n",
              "      border-color: transparent;\n",
              "      border-right-color: var(--fill-color);\n",
              "      border-bottom-color: var(--fill-color);\n",
              "    }\n",
              "    90% {\n",
              "      border-color: transparent;\n",
              "      border-bottom-color: var(--fill-color);\n",
              "    }\n",
              "  }\n",
              "</style>\n",
              "\n",
              "      <script>\n",
              "        async function quickchart(key) {\n",
              "          const quickchartButtonEl =\n",
              "            document.querySelector('#' + key + ' button');\n",
              "          quickchartButtonEl.disabled = true;  // To prevent multiple clicks.\n",
              "          quickchartButtonEl.classList.add('colab-df-spinner');\n",
              "          try {\n",
              "            const charts = await google.colab.kernel.invokeFunction(\n",
              "                'suggestCharts', [key], {});\n",
              "          } catch (error) {\n",
              "            console.error('Error during call to suggestCharts:', error);\n",
              "          }\n",
              "          quickchartButtonEl.classList.remove('colab-df-spinner');\n",
              "          quickchartButtonEl.classList.add('colab-df-quickchart-complete');\n",
              "        }\n",
              "        (() => {\n",
              "          let quickchartButtonEl =\n",
              "            document.querySelector('#df-11bedae4-c188-4327-a329-5b8cf27d8595 button');\n",
              "          quickchartButtonEl.style.display =\n",
              "            google.colab.kernel.accessAllowed ? 'block' : 'none';\n",
              "        })();\n",
              "      </script>\n",
              "    </div>\n",
              "\n",
              "    </div>\n",
              "  </div>\n"
            ],
            "application/vnd.google.colaboratory.intrinsic+json": {
              "type": "dataframe",
              "summary": "{\n  \"name\": \"X_test\",\n  \"rows\": 5,\n  \"fields\": [\n    {\n      \"column\": \"keyword_match_score\",\n      \"properties\": {\n        \"dtype\": \"number\",\n        \"std\": 0.08944271909999159,\n        \"min\": 0.0,\n        \"max\": 0.2,\n        \"num_unique_values\": 2,\n        \"samples\": [\n          0.0,\n          0.2\n        ],\n        \"semantic_type\": \"\",\n        \"description\": \"\"\n      }\n    },\n    {\n      \"column\": \"semantic_sim\",\n      \"properties\": {\n        \"dtype\": \"number\",\n        \"std\": 0.23017621393461976,\n        \"min\": 0.045933738350868225,\n        \"max\": 0.5834596157073975,\n        \"num_unique_values\": 5,\n        \"samples\": [\n          0.4588073194026947,\n          0.12001755088567734\n        ],\n        \"semantic_type\": \"\",\n        \"description\": \"\"\n      }\n    },\n    {\n      \"column\": \"y_true\",\n      \"properties\": {\n        \"dtype\": \"number\",\n        \"std\": 0,\n        \"min\": 1,\n        \"max\": 2,\n        \"num_unique_values\": 2,\n        \"samples\": [\n          1,\n          2\n        ],\n        \"semantic_type\": \"\",\n        \"description\": \"\"\n      }\n    },\n    {\n      \"column\": \"y_pred\",\n      \"properties\": {\n        \"dtype\": \"float32\",\n        \"num_unique_values\": 2,\n        \"samples\": [\n          -3.2579586505889893,\n          3.257960081100464\n        ],\n        \"semantic_type\": \"\",\n        \"description\": \"\"\n      }\n    }\n  ]\n}"
            }
          },
          "metadata": {},
          "execution_count": 137
        }
      ]
    },
    {
      "cell_type": "markdown",
      "source": [
        "Ranking Metrics   Evaluation Metrics (Precision@K, Recall@K, MRR, NDCG)"
      ],
      "metadata": {
        "id": "o9n9WWt09amJ"
      }
    },
    {
      "cell_type": "code",
      "source": [
        "import numpy as np\n",
        "from sklearn.metrics import ndcg_score\n",
        "\n",
        "def precision_at_k(y_true, y_pred, k=10, rel_threshold=1):\n",
        "    order = np.argsort(y_pred)[::-1][:k]\n",
        "    y_true_k = y_true[order]\n",
        "    return np.sum(y_true_k > rel_threshold) / k\n",
        "\n",
        "def recall_at_k(y_true, y_pred, k=10, rel_threshold=1):\n",
        "    order = np.argsort(y_pred)[::-1][:k]\n",
        "    y_true_k = y_true[order]\n",
        "    num_relevant = np.sum(y_true > rel_threshold)\n",
        "    if num_relevant == 0:\n",
        "        return 0.0\n",
        "    return np.sum(y_true_k > rel_threshold) / num_relevant\n",
        "\n",
        "def mean_reciprocal_rank(y_true, y_pred, rel_threshold=1):\n",
        "    order = np.argsort(y_pred)[::-1]\n",
        "    y_true_ordered = y_true[order]\n",
        "    for i, rel in enumerate(y_true_ordered, start=1):\n",
        "        if rel > rel_threshold:\n",
        "            return 1.0 / i\n",
        "    return 0.0\n",
        "\n",
        "def evaluate_group(y_true, y_pred, k=10, rel_threshold=1):\n",
        "    p = precision_at_k(y_true, y_pred, k, rel_threshold)\n",
        "    r = recall_at_k(y_true, y_pred, k, rel_threshold)\n",
        "    mrr = mean_reciprocal_rank(y_true, y_pred, rel_threshold)\n",
        "    ndcg = ndcg_score([y_true], [y_pred], k=k)\n",
        "    return p, r, mrr, ndcg\n",
        "\n",
        "features = ['keyword_match_score', 'semantic_sim']\n",
        "\n",
        "# Make sure to select only the features for prediction\n",
        "X_test_features = X_test[features]\n",
        "y_true = y_test.values\n",
        "\n",
        "y_pred = model_xgb.predict(X_test_features)\n",
        "\n",
        "# Define group_test - size of each query group in test set, adjust as needed\n",
        "group_test = [10] * (len(X_test_features) // 10)  # example assuming groups of size 10\n",
        "\n",
        "start = 0\n",
        "for idx, group_size in enumerate(group_test):\n",
        "    end = start + group_size\n",
        "    y_true_group = y_true[start:end]\n",
        "    y_pred_group = y_pred[start:end]\n",
        "\n",
        "    p, r, mrr, ndcg = evaluate_group(y_true_group, y_pred_group, k=10, rel_threshold=1)\n",
        "\n",
        "    print(f\"Group {idx + 1} Metrics:\")\n",
        "    print(f\"  Precision@10: {p:.4f}\")\n",
        "    print(f\"  Recall@10: {r:.4f}\")\n",
        "    print(f\"  MRR: {mrr:.4f}\")\n",
        "    print(f\"  NDCG@10: {ndcg:.4f}\\n\")\n",
        "\n",
        "    start = end\n",
        "\n",
        "print(\"Example y_true and y_pred from group 1:\")\n",
        "print(\"y_true:\", y_true[0:10])\n",
        "print(\"y_pred:\", y_pred[0:10])\n"
      ],
      "metadata": {
        "colab": {
          "base_uri": "https://localhost:8080/"
        },
        "id": "y_f7s8lBJPT0",
        "outputId": "2e8230a0-7a15-4d3d-eca0-ac55b3c430fa"
      },
      "execution_count": null,
      "outputs": [
        {
          "output_type": "stream",
          "name": "stdout",
          "text": [
            "Group 1 Metrics:\n",
            "  Precision@10: 0.0000\n",
            "  Recall@10: 0.0000\n",
            "  MRR: 0.0000\n",
            "  NDCG@10: 1.0000\n",
            "\n",
            "Group 2 Metrics:\n",
            "  Precision@10: 0.0000\n",
            "  Recall@10: 0.0000\n",
            "  MRR: 0.0000\n",
            "  NDCG@10: 1.0000\n",
            "\n",
            "Group 3 Metrics:\n",
            "  Precision@10: 0.1000\n",
            "  Recall@10: 1.0000\n",
            "  MRR: 1.0000\n",
            "  NDCG@10: 1.0000\n",
            "\n",
            "Group 4 Metrics:\n",
            "  Precision@10: 0.0000\n",
            "  Recall@10: 0.0000\n",
            "  MRR: 0.0000\n",
            "  NDCG@10: 1.0000\n",
            "\n",
            "Group 5 Metrics:\n",
            "  Precision@10: 0.2000\n",
            "  Recall@10: 1.0000\n",
            "  MRR: 1.0000\n",
            "  NDCG@10: 1.0000\n",
            "\n",
            "Group 6 Metrics:\n",
            "  Precision@10: 0.0000\n",
            "  Recall@10: 0.0000\n",
            "  MRR: 0.0000\n",
            "  NDCG@10: 1.0000\n",
            "\n",
            "Group 7 Metrics:\n",
            "  Precision@10: 0.0000\n",
            "  Recall@10: 0.0000\n",
            "  MRR: 0.0000\n",
            "  NDCG@10: 1.0000\n",
            "\n",
            "Group 8 Metrics:\n",
            "  Precision@10: 0.0000\n",
            "  Recall@10: 0.0000\n",
            "  MRR: 0.0000\n",
            "  NDCG@10: 1.0000\n",
            "\n",
            "Example y_true and y_pred from group 1:\n",
            "y_true: [1 1 1 1 1 1 1 1 1 1]\n",
            "y_pred: [-3.2579587 -3.2579587 -3.2579587 -3.2579587 -3.2579587 -3.2579587\n",
            " -3.2579587 -3.2579587 -3.2579587 -3.2579587]\n"
          ]
        }
      ]
    },
    {
      "cell_type": "markdown",
      "source": [
        "Save the trained model as a .pkl file"
      ],
      "metadata": {
        "id": "8F7XgybsRLHR"
      }
    },
    {
      "cell_type": "code",
      "source": [
        "import pickle\n",
        "\n",
        "# Assume your trained model is called `model_xgb`\n",
        "with open('xgbranker_model.pkl', 'wb') as f:\n",
        "    pickle.dump(model_xgb, f)\n",
        "\n",
        "print(\"Model saved as xgbranker_model.pkl\")\n"
      ],
      "metadata": {
        "colab": {
          "base_uri": "https://localhost:8080/"
        },
        "id": "aetE0UyVRMpz",
        "outputId": "853524bb-ca5f-4c1e-a17f-3e270d92abb4"
      },
      "execution_count": null,
      "outputs": [
        {
          "output_type": "stream",
          "name": "stdout",
          "text": [
            "Model saved as xgbranker_model.pkl\n"
          ]
        }
      ]
    }
  ]
}